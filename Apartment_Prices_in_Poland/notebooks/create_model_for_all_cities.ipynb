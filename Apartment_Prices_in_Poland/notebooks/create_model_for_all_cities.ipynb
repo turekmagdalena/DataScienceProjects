{
  "nbformat": 4,
  "nbformat_minor": 0,
  "metadata": {
    "colab": {
      "provenance": []
    },
    "kernelspec": {
      "name": "python3",
      "display_name": "Python 3"
    },
    "language_info": {
      "name": "python"
    }
  },
  "cells": [
    {
      "cell_type": "code",
      "execution_count": 1,
      "metadata": {
        "id": "WeyTXaSnNpUH"
      },
      "outputs": [],
      "source": [
        "import data_preparation_functions as dpf\n",
        "import pandas as pd\n",
        "from sklearn.model_selection import train_test_split\n",
        "from xgboost import XGBRegressor\n",
        "from sklearn.metrics import mean_absolute_error, root_mean_squared_error, r2_score\n",
        "import time\n",
        "import pickle\n",
        "import json"
      ]
    },
    {
      "cell_type": "markdown",
      "source": [
        "### Read DataFrame"
      ],
      "metadata": {
        "id": "06Nd7ODYjCfu"
      }
    },
    {
      "cell_type": "code",
      "source": [
        "path = \"/content/drive/MyDrive/Data Analysis/Apartments-Prices-in-Poland/apartments_pl_2024_06.csv\"\n",
        "\n",
        "df = pd.read_csv(path)"
      ],
      "metadata": {
        "id": "MhF3qXExOCkq"
      },
      "execution_count": 2,
      "outputs": []
    },
    {
      "cell_type": "code",
      "source": [
        "df.head()"
      ],
      "metadata": {
        "colab": {
          "base_uri": "https://localhost:8080/",
          "height": 256
        },
        "id": "u_v96cpYOaa9",
        "outputId": "a0a924b8-36ab-4d63-8aaa-280274610007"
      },
      "execution_count": 3,
      "outputs": [
        {
          "output_type": "execute_result",
          "data": {
            "text/plain": [
              "                                 id      city               type  \\\n",
              "0  811891f98a870dfd6e414374a0a85560  szczecin       blockOfFlats   \n",
              "1  adaf636d0c44d8d9325bce42403eefee  szczecin  apartmentBuilding   \n",
              "2  9b957bd60885a469c96f17b58a914f4b  szczecin  apartmentBuilding   \n",
              "3  74fef2ff7135bc70797a3fbfd7d44ed6  szczecin       blockOfFlats   \n",
              "4  77cc78c75b0d09bf84d6d3124a28803c  szczecin       blockOfFlats   \n",
              "\n",
              "   squareMeters  rooms  floor  floorCount  buildYear   latitude  longitude  \\\n",
              "0         47.00    2.0    6.0        12.0     1981.0  53.428544  14.552812   \n",
              "1         88.22    3.0    1.0         2.0     2000.0  53.449093  14.516844   \n",
              "2        117.00    5.0    4.0         4.0        NaN  53.443096  14.561348   \n",
              "3         33.31    1.0    1.0         4.0     1963.0  53.436100  14.541200   \n",
              "4         56.00    3.0    7.0         7.0     2018.0  53.447465  14.557811   \n",
              "\n",
              "   ...  pharmacyDistance    ownership  buildingMaterial  condition  \\\n",
              "0  ...             0.085  condominium      concreteSlab        NaN   \n",
              "1  ...             0.668  condominium             brick    premium   \n",
              "2  ...             0.229       udział             brick    premium   \n",
              "3  ...             0.388  cooperative             brick        NaN   \n",
              "4  ...             0.178  condominium             brick    premium   \n",
              "\n",
              "   hasParkingSpace  hasBalcony  hasElevator  hasSecurity  hasStorageRoom  \\\n",
              "0               no         yes          yes           no             yes   \n",
              "1              yes         yes           no           no              no   \n",
              "2              yes         yes           no           no              no   \n",
              "3              yes          no           no          yes             yes   \n",
              "4              yes         yes          yes          yes             yes   \n",
              "\n",
              "     price  \n",
              "0   449000  \n",
              "1   950000  \n",
              "2  1099000  \n",
              "3   380000  \n",
              "4   799000  \n",
              "\n",
              "[5 rows x 28 columns]"
            ],
            "text/html": [
              "\n",
              "  <div id=\"df-031a2dae-7e3a-4093-bb75-130fbb0db10c\" class=\"colab-df-container\">\n",
              "    <div>\n",
              "<style scoped>\n",
              "    .dataframe tbody tr th:only-of-type {\n",
              "        vertical-align: middle;\n",
              "    }\n",
              "\n",
              "    .dataframe tbody tr th {\n",
              "        vertical-align: top;\n",
              "    }\n",
              "\n",
              "    .dataframe thead th {\n",
              "        text-align: right;\n",
              "    }\n",
              "</style>\n",
              "<table border=\"1\" class=\"dataframe\">\n",
              "  <thead>\n",
              "    <tr style=\"text-align: right;\">\n",
              "      <th></th>\n",
              "      <th>id</th>\n",
              "      <th>city</th>\n",
              "      <th>type</th>\n",
              "      <th>squareMeters</th>\n",
              "      <th>rooms</th>\n",
              "      <th>floor</th>\n",
              "      <th>floorCount</th>\n",
              "      <th>buildYear</th>\n",
              "      <th>latitude</th>\n",
              "      <th>longitude</th>\n",
              "      <th>...</th>\n",
              "      <th>pharmacyDistance</th>\n",
              "      <th>ownership</th>\n",
              "      <th>buildingMaterial</th>\n",
              "      <th>condition</th>\n",
              "      <th>hasParkingSpace</th>\n",
              "      <th>hasBalcony</th>\n",
              "      <th>hasElevator</th>\n",
              "      <th>hasSecurity</th>\n",
              "      <th>hasStorageRoom</th>\n",
              "      <th>price</th>\n",
              "    </tr>\n",
              "  </thead>\n",
              "  <tbody>\n",
              "    <tr>\n",
              "      <th>0</th>\n",
              "      <td>811891f98a870dfd6e414374a0a85560</td>\n",
              "      <td>szczecin</td>\n",
              "      <td>blockOfFlats</td>\n",
              "      <td>47.00</td>\n",
              "      <td>2.0</td>\n",
              "      <td>6.0</td>\n",
              "      <td>12.0</td>\n",
              "      <td>1981.0</td>\n",
              "      <td>53.428544</td>\n",
              "      <td>14.552812</td>\n",
              "      <td>...</td>\n",
              "      <td>0.085</td>\n",
              "      <td>condominium</td>\n",
              "      <td>concreteSlab</td>\n",
              "      <td>NaN</td>\n",
              "      <td>no</td>\n",
              "      <td>yes</td>\n",
              "      <td>yes</td>\n",
              "      <td>no</td>\n",
              "      <td>yes</td>\n",
              "      <td>449000</td>\n",
              "    </tr>\n",
              "    <tr>\n",
              "      <th>1</th>\n",
              "      <td>adaf636d0c44d8d9325bce42403eefee</td>\n",
              "      <td>szczecin</td>\n",
              "      <td>apartmentBuilding</td>\n",
              "      <td>88.22</td>\n",
              "      <td>3.0</td>\n",
              "      <td>1.0</td>\n",
              "      <td>2.0</td>\n",
              "      <td>2000.0</td>\n",
              "      <td>53.449093</td>\n",
              "      <td>14.516844</td>\n",
              "      <td>...</td>\n",
              "      <td>0.668</td>\n",
              "      <td>condominium</td>\n",
              "      <td>brick</td>\n",
              "      <td>premium</td>\n",
              "      <td>yes</td>\n",
              "      <td>yes</td>\n",
              "      <td>no</td>\n",
              "      <td>no</td>\n",
              "      <td>no</td>\n",
              "      <td>950000</td>\n",
              "    </tr>\n",
              "    <tr>\n",
              "      <th>2</th>\n",
              "      <td>9b957bd60885a469c96f17b58a914f4b</td>\n",
              "      <td>szczecin</td>\n",
              "      <td>apartmentBuilding</td>\n",
              "      <td>117.00</td>\n",
              "      <td>5.0</td>\n",
              "      <td>4.0</td>\n",
              "      <td>4.0</td>\n",
              "      <td>NaN</td>\n",
              "      <td>53.443096</td>\n",
              "      <td>14.561348</td>\n",
              "      <td>...</td>\n",
              "      <td>0.229</td>\n",
              "      <td>udział</td>\n",
              "      <td>brick</td>\n",
              "      <td>premium</td>\n",
              "      <td>yes</td>\n",
              "      <td>yes</td>\n",
              "      <td>no</td>\n",
              "      <td>no</td>\n",
              "      <td>no</td>\n",
              "      <td>1099000</td>\n",
              "    </tr>\n",
              "    <tr>\n",
              "      <th>3</th>\n",
              "      <td>74fef2ff7135bc70797a3fbfd7d44ed6</td>\n",
              "      <td>szczecin</td>\n",
              "      <td>blockOfFlats</td>\n",
              "      <td>33.31</td>\n",
              "      <td>1.0</td>\n",
              "      <td>1.0</td>\n",
              "      <td>4.0</td>\n",
              "      <td>1963.0</td>\n",
              "      <td>53.436100</td>\n",
              "      <td>14.541200</td>\n",
              "      <td>...</td>\n",
              "      <td>0.388</td>\n",
              "      <td>cooperative</td>\n",
              "      <td>brick</td>\n",
              "      <td>NaN</td>\n",
              "      <td>yes</td>\n",
              "      <td>no</td>\n",
              "      <td>no</td>\n",
              "      <td>yes</td>\n",
              "      <td>yes</td>\n",
              "      <td>380000</td>\n",
              "    </tr>\n",
              "    <tr>\n",
              "      <th>4</th>\n",
              "      <td>77cc78c75b0d09bf84d6d3124a28803c</td>\n",
              "      <td>szczecin</td>\n",
              "      <td>blockOfFlats</td>\n",
              "      <td>56.00</td>\n",
              "      <td>3.0</td>\n",
              "      <td>7.0</td>\n",
              "      <td>7.0</td>\n",
              "      <td>2018.0</td>\n",
              "      <td>53.447465</td>\n",
              "      <td>14.557811</td>\n",
              "      <td>...</td>\n",
              "      <td>0.178</td>\n",
              "      <td>condominium</td>\n",
              "      <td>brick</td>\n",
              "      <td>premium</td>\n",
              "      <td>yes</td>\n",
              "      <td>yes</td>\n",
              "      <td>yes</td>\n",
              "      <td>yes</td>\n",
              "      <td>yes</td>\n",
              "      <td>799000</td>\n",
              "    </tr>\n",
              "  </tbody>\n",
              "</table>\n",
              "<p>5 rows × 28 columns</p>\n",
              "</div>\n",
              "    <div class=\"colab-df-buttons\">\n",
              "\n",
              "  <div class=\"colab-df-container\">\n",
              "    <button class=\"colab-df-convert\" onclick=\"convertToInteractive('df-031a2dae-7e3a-4093-bb75-130fbb0db10c')\"\n",
              "            title=\"Convert this dataframe to an interactive table.\"\n",
              "            style=\"display:none;\">\n",
              "\n",
              "  <svg xmlns=\"http://www.w3.org/2000/svg\" height=\"24px\" viewBox=\"0 -960 960 960\">\n",
              "    <path d=\"M120-120v-720h720v720H120Zm60-500h600v-160H180v160Zm220 220h160v-160H400v160Zm0 220h160v-160H400v160ZM180-400h160v-160H180v160Zm440 0h160v-160H620v160ZM180-180h160v-160H180v160Zm440 0h160v-160H620v160Z\"/>\n",
              "  </svg>\n",
              "    </button>\n",
              "\n",
              "  <style>\n",
              "    .colab-df-container {\n",
              "      display:flex;\n",
              "      gap: 12px;\n",
              "    }\n",
              "\n",
              "    .colab-df-convert {\n",
              "      background-color: #E8F0FE;\n",
              "      border: none;\n",
              "      border-radius: 50%;\n",
              "      cursor: pointer;\n",
              "      display: none;\n",
              "      fill: #1967D2;\n",
              "      height: 32px;\n",
              "      padding: 0 0 0 0;\n",
              "      width: 32px;\n",
              "    }\n",
              "\n",
              "    .colab-df-convert:hover {\n",
              "      background-color: #E2EBFA;\n",
              "      box-shadow: 0px 1px 2px rgba(60, 64, 67, 0.3), 0px 1px 3px 1px rgba(60, 64, 67, 0.15);\n",
              "      fill: #174EA6;\n",
              "    }\n",
              "\n",
              "    .colab-df-buttons div {\n",
              "      margin-bottom: 4px;\n",
              "    }\n",
              "\n",
              "    [theme=dark] .colab-df-convert {\n",
              "      background-color: #3B4455;\n",
              "      fill: #D2E3FC;\n",
              "    }\n",
              "\n",
              "    [theme=dark] .colab-df-convert:hover {\n",
              "      background-color: #434B5C;\n",
              "      box-shadow: 0px 1px 3px 1px rgba(0, 0, 0, 0.15);\n",
              "      filter: drop-shadow(0px 1px 2px rgba(0, 0, 0, 0.3));\n",
              "      fill: #FFFFFF;\n",
              "    }\n",
              "  </style>\n",
              "\n",
              "    <script>\n",
              "      const buttonEl =\n",
              "        document.querySelector('#df-031a2dae-7e3a-4093-bb75-130fbb0db10c button.colab-df-convert');\n",
              "      buttonEl.style.display =\n",
              "        google.colab.kernel.accessAllowed ? 'block' : 'none';\n",
              "\n",
              "      async function convertToInteractive(key) {\n",
              "        const element = document.querySelector('#df-031a2dae-7e3a-4093-bb75-130fbb0db10c');\n",
              "        const dataTable =\n",
              "          await google.colab.kernel.invokeFunction('convertToInteractive',\n",
              "                                                    [key], {});\n",
              "        if (!dataTable) return;\n",
              "\n",
              "        const docLinkHtml = 'Like what you see? Visit the ' +\n",
              "          '<a target=\"_blank\" href=https://colab.research.google.com/notebooks/data_table.ipynb>data table notebook</a>'\n",
              "          + ' to learn more about interactive tables.';\n",
              "        element.innerHTML = '';\n",
              "        dataTable['output_type'] = 'display_data';\n",
              "        await google.colab.output.renderOutput(dataTable, element);\n",
              "        const docLink = document.createElement('div');\n",
              "        docLink.innerHTML = docLinkHtml;\n",
              "        element.appendChild(docLink);\n",
              "      }\n",
              "    </script>\n",
              "  </div>\n",
              "\n",
              "\n",
              "<div id=\"df-c4b34551-3455-4e02-8703-b39ba5e5b96a\">\n",
              "  <button class=\"colab-df-quickchart\" onclick=\"quickchart('df-c4b34551-3455-4e02-8703-b39ba5e5b96a')\"\n",
              "            title=\"Suggest charts\"\n",
              "            style=\"display:none;\">\n",
              "\n",
              "<svg xmlns=\"http://www.w3.org/2000/svg\" height=\"24px\"viewBox=\"0 0 24 24\"\n",
              "     width=\"24px\">\n",
              "    <g>\n",
              "        <path d=\"M19 3H5c-1.1 0-2 .9-2 2v14c0 1.1.9 2 2 2h14c1.1 0 2-.9 2-2V5c0-1.1-.9-2-2-2zM9 17H7v-7h2v7zm4 0h-2V7h2v10zm4 0h-2v-4h2v4z\"/>\n",
              "    </g>\n",
              "</svg>\n",
              "  </button>\n",
              "\n",
              "<style>\n",
              "  .colab-df-quickchart {\n",
              "      --bg-color: #E8F0FE;\n",
              "      --fill-color: #1967D2;\n",
              "      --hover-bg-color: #E2EBFA;\n",
              "      --hover-fill-color: #174EA6;\n",
              "      --disabled-fill-color: #AAA;\n",
              "      --disabled-bg-color: #DDD;\n",
              "  }\n",
              "\n",
              "  [theme=dark] .colab-df-quickchart {\n",
              "      --bg-color: #3B4455;\n",
              "      --fill-color: #D2E3FC;\n",
              "      --hover-bg-color: #434B5C;\n",
              "      --hover-fill-color: #FFFFFF;\n",
              "      --disabled-bg-color: #3B4455;\n",
              "      --disabled-fill-color: #666;\n",
              "  }\n",
              "\n",
              "  .colab-df-quickchart {\n",
              "    background-color: var(--bg-color);\n",
              "    border: none;\n",
              "    border-radius: 50%;\n",
              "    cursor: pointer;\n",
              "    display: none;\n",
              "    fill: var(--fill-color);\n",
              "    height: 32px;\n",
              "    padding: 0;\n",
              "    width: 32px;\n",
              "  }\n",
              "\n",
              "  .colab-df-quickchart:hover {\n",
              "    background-color: var(--hover-bg-color);\n",
              "    box-shadow: 0 1px 2px rgba(60, 64, 67, 0.3), 0 1px 3px 1px rgba(60, 64, 67, 0.15);\n",
              "    fill: var(--button-hover-fill-color);\n",
              "  }\n",
              "\n",
              "  .colab-df-quickchart-complete:disabled,\n",
              "  .colab-df-quickchart-complete:disabled:hover {\n",
              "    background-color: var(--disabled-bg-color);\n",
              "    fill: var(--disabled-fill-color);\n",
              "    box-shadow: none;\n",
              "  }\n",
              "\n",
              "  .colab-df-spinner {\n",
              "    border: 2px solid var(--fill-color);\n",
              "    border-color: transparent;\n",
              "    border-bottom-color: var(--fill-color);\n",
              "    animation:\n",
              "      spin 1s steps(1) infinite;\n",
              "  }\n",
              "\n",
              "  @keyframes spin {\n",
              "    0% {\n",
              "      border-color: transparent;\n",
              "      border-bottom-color: var(--fill-color);\n",
              "      border-left-color: var(--fill-color);\n",
              "    }\n",
              "    20% {\n",
              "      border-color: transparent;\n",
              "      border-left-color: var(--fill-color);\n",
              "      border-top-color: var(--fill-color);\n",
              "    }\n",
              "    30% {\n",
              "      border-color: transparent;\n",
              "      border-left-color: var(--fill-color);\n",
              "      border-top-color: var(--fill-color);\n",
              "      border-right-color: var(--fill-color);\n",
              "    }\n",
              "    40% {\n",
              "      border-color: transparent;\n",
              "      border-right-color: var(--fill-color);\n",
              "      border-top-color: var(--fill-color);\n",
              "    }\n",
              "    60% {\n",
              "      border-color: transparent;\n",
              "      border-right-color: var(--fill-color);\n",
              "    }\n",
              "    80% {\n",
              "      border-color: transparent;\n",
              "      border-right-color: var(--fill-color);\n",
              "      border-bottom-color: var(--fill-color);\n",
              "    }\n",
              "    90% {\n",
              "      border-color: transparent;\n",
              "      border-bottom-color: var(--fill-color);\n",
              "    }\n",
              "  }\n",
              "</style>\n",
              "\n",
              "  <script>\n",
              "    async function quickchart(key) {\n",
              "      const quickchartButtonEl =\n",
              "        document.querySelector('#' + key + ' button');\n",
              "      quickchartButtonEl.disabled = true;  // To prevent multiple clicks.\n",
              "      quickchartButtonEl.classList.add('colab-df-spinner');\n",
              "      try {\n",
              "        const charts = await google.colab.kernel.invokeFunction(\n",
              "            'suggestCharts', [key], {});\n",
              "      } catch (error) {\n",
              "        console.error('Error during call to suggestCharts:', error);\n",
              "      }\n",
              "      quickchartButtonEl.classList.remove('colab-df-spinner');\n",
              "      quickchartButtonEl.classList.add('colab-df-quickchart-complete');\n",
              "    }\n",
              "    (() => {\n",
              "      let quickchartButtonEl =\n",
              "        document.querySelector('#df-c4b34551-3455-4e02-8703-b39ba5e5b96a button');\n",
              "      quickchartButtonEl.style.display =\n",
              "        google.colab.kernel.accessAllowed ? 'block' : 'none';\n",
              "    })();\n",
              "  </script>\n",
              "</div>\n",
              "\n",
              "    </div>\n",
              "  </div>\n"
            ],
            "application/vnd.google.colaboratory.intrinsic+json": {
              "type": "dataframe",
              "variable_name": "df"
            }
          },
          "metadata": {},
          "execution_count": 3
        }
      ]
    },
    {
      "cell_type": "code",
      "source": [
        "df.info()"
      ],
      "metadata": {
        "colab": {
          "base_uri": "https://localhost:8080/"
        },
        "id": "2NDw0iw7QINT",
        "outputId": "7b526a2f-a15c-498e-dd1d-cb0b02156969"
      },
      "execution_count": 4,
      "outputs": [
        {
          "output_type": "stream",
          "name": "stdout",
          "text": [
            "<class 'pandas.core.frame.DataFrame'>\n",
            "RangeIndex: 21501 entries, 0 to 21500\n",
            "Data columns (total 28 columns):\n",
            " #   Column                Non-Null Count  Dtype  \n",
            "---  ------                --------------  -----  \n",
            " 0   id                    21501 non-null  object \n",
            " 1   city                  21501 non-null  object \n",
            " 2   type                  17104 non-null  object \n",
            " 3   squareMeters          21501 non-null  float64\n",
            " 4   rooms                 21501 non-null  float64\n",
            " 5   floor                 17928 non-null  float64\n",
            " 6   floorCount            21292 non-null  float64\n",
            " 7   buildYear             18121 non-null  float64\n",
            " 8   latitude              21501 non-null  float64\n",
            " 9   longitude             21501 non-null  float64\n",
            " 10  centreDistance        21501 non-null  float64\n",
            " 11  poiCount              21501 non-null  float64\n",
            " 12  schoolDistance        21490 non-null  float64\n",
            " 13  clinicDistance        21438 non-null  float64\n",
            " 14  postOfficeDistance    21481 non-null  float64\n",
            " 15  kindergartenDistance  21482 non-null  float64\n",
            " 16  restaurantDistance    21470 non-null  float64\n",
            " 17  collegeDistance       20917 non-null  float64\n",
            " 18  pharmacyDistance      21471 non-null  float64\n",
            " 19  ownership             21501 non-null  object \n",
            " 20  buildingMaterial      12709 non-null  object \n",
            " 21  condition             5580 non-null   object \n",
            " 22  hasParkingSpace       21501 non-null  object \n",
            " 23  hasBalcony            21501 non-null  object \n",
            " 24  hasElevator           20541 non-null  object \n",
            " 25  hasSecurity           21501 non-null  object \n",
            " 26  hasStorageRoom        21501 non-null  object \n",
            " 27  price                 21501 non-null  int64  \n",
            "dtypes: float64(16), int64(1), object(11)\n",
            "memory usage: 4.6+ MB\n"
          ]
        }
      ]
    },
    {
      "cell_type": "markdown",
      "source": [
        "### Prepare data"
      ],
      "metadata": {
        "id": "bSPvaib_jMXg"
      }
    },
    {
      "cell_type": "code",
      "source": [
        "df = dpf.categorize_location(df)"
      ],
      "metadata": {
        "id": "6QwqYl2KO9hL"
      },
      "execution_count": 5,
      "outputs": []
    },
    {
      "cell_type": "markdown",
      "source": [
        "Manipulate data per city"
      ],
      "metadata": {
        "id": "aMWOZ3rYjbBM"
      }
    },
    {
      "cell_type": "code",
      "source": [
        "df_all = pd.DataFrame()\n",
        "\n",
        "for city in df['city'].unique():\n",
        "  city_df = dpf.prepare_data_per_city(df, city)\n",
        "\n",
        "  df_all = pd.concat([df_all, city_df]).reset_index(drop=True)\n"
      ],
      "metadata": {
        "id": "7XaTyKndeN-1"
      },
      "execution_count": 6,
      "outputs": []
    },
    {
      "cell_type": "markdown",
      "source": [
        "Manipulate data for the whole dataset"
      ],
      "metadata": {
        "id": "LraNrNK3jefE"
      }
    },
    {
      "cell_type": "code",
      "source": [
        "df_all, bins, ohe_dict = dpf.prepare_data_whole_dataset(df_all)"
      ],
      "metadata": {
        "id": "EoASjsFjP1gH"
      },
      "execution_count": 7,
      "outputs": []
    },
    {
      "cell_type": "markdown",
      "source": [
        "Save OneHotEncoders for preditions"
      ],
      "metadata": {
        "id": "OS189O9k--nd"
      }
    },
    {
      "cell_type": "code",
      "source": [
        "with open('encoders.pkl', 'wb') as file:\n",
        "    pickle.dump(ohe_dict, file)"
      ],
      "metadata": {
        "id": "eTcatWeo-qSD"
      },
      "execution_count": 8,
      "outputs": []
    },
    {
      "cell_type": "markdown",
      "source": [
        "Save bins for predictions"
      ],
      "metadata": {
        "id": "P6QmY9ajrsBd"
      }
    },
    {
      "cell_type": "code",
      "source": [
        "with open(\"bins.json\", \"w\") as file:\n",
        "    json.dump(bins, file)"
      ],
      "metadata": {
        "id": "XOLulS1CrmvC"
      },
      "execution_count": 9,
      "outputs": []
    },
    {
      "cell_type": "code",
      "source": [
        "df_all.info()"
      ],
      "metadata": {
        "colab": {
          "base_uri": "https://localhost:8080/"
        },
        "id": "B8tIbhPAW9sw",
        "outputId": "248b7333-087b-431e-98df-e20ea0b54d51"
      },
      "execution_count": 10,
      "outputs": [
        {
          "output_type": "stream",
          "name": "stdout",
          "text": [
            "<class 'pandas.core.frame.DataFrame'>\n",
            "Index: 21115 entries, 0 to 21500\n",
            "Data columns (total 32 columns):\n",
            " #   Column                       Non-Null Count  Dtype  \n",
            "---  ------                       --------------  -----  \n",
            " 0   squareMeters                 21115 non-null  float64\n",
            " 1   floor                        21115 non-null  float64\n",
            " 2   buildYear                    21115 non-null  float64\n",
            " 3   poiCount                     21115 non-null  float64\n",
            " 4   price_per_m2_log             21115 non-null  float64\n",
            " 5   clinicDistance_binned        21115 non-null  int64  \n",
            " 6   kindergartenDistance_binned  21115 non-null  int64  \n",
            " 7   collegeDistance_binned       21115 non-null  int64  \n",
            " 8   pharmacyDistance_binned      21115 non-null  int64  \n",
            " 9   centreDistance_binned        21115 non-null  int64  \n",
            " 10  city_bialystok               21115 non-null  float64\n",
            " 11  city_bydgoszcz               21115 non-null  float64\n",
            " 12  city_czestochowa             21115 non-null  float64\n",
            " 13  city_gdansk                  21115 non-null  float64\n",
            " 14  city_gdynia                  21115 non-null  float64\n",
            " 15  city_katowice                21115 non-null  float64\n",
            " 16  city_krakow                  21115 non-null  float64\n",
            " 17  city_lodz                    21115 non-null  float64\n",
            " 18  city_lublin                  21115 non-null  float64\n",
            " 19  city_poznan                  21115 non-null  float64\n",
            " 20  city_radom                   21115 non-null  float64\n",
            " 21  city_rzeszow                 21115 non-null  float64\n",
            " 22  city_szczecin                21115 non-null  float64\n",
            " 23  city_warszawa                21115 non-null  float64\n",
            " 24  city_wroclaw                 21115 non-null  float64\n",
            " 25  type_blockOfFlats            21115 non-null  float64\n",
            " 26  type_tenement                21115 non-null  float64\n",
            " 27  condition_premium            21115 non-null  float64\n",
            " 28  condition_standard           21115 non-null  float64\n",
            " 29  hasParkingSpace_yes          21115 non-null  float64\n",
            " 30  hasBalcony_yes               21115 non-null  float64\n",
            " 31  hasElevator_yes              21115 non-null  float64\n",
            "dtypes: float64(27), int64(5)\n",
            "memory usage: 5.3 MB\n"
          ]
        }
      ]
    },
    {
      "cell_type": "markdown",
      "source": [
        "#  Build model"
      ],
      "metadata": {
        "id": "hyrl-Gm7i9J4"
      }
    },
    {
      "cell_type": "code",
      "source": [
        "# Assign features and target column\n",
        "X = df_all.drop(columns=['price_per_m2_log'])\n",
        "y = df_all['price_per_m2_log']\n",
        "\n",
        "# Train-test split\n",
        "X_train, X_test, y_train, y_test = train_test_split(X, y, test_size=0.2, random_state=42)"
      ],
      "metadata": {
        "id": "uPO8hBXmeHiN"
      },
      "execution_count": 11,
      "outputs": []
    },
    {
      "cell_type": "code",
      "source": [
        "y_mean = y_train.mean()\n",
        "y_pred_baseline = [y_mean] * len(y_train)\n",
        "baseline_mae = mean_absolute_error(y_pred_baseline, y_train)\n",
        "print(\"Mean apt price:\", y_mean)\n",
        "print(\"Baseline MAE:\", baseline_mae)"
      ],
      "metadata": {
        "colab": {
          "base_uri": "https://localhost:8080/"
        },
        "id": "8lHcUdb6hSPj",
        "outputId": "ceac04a4-694a-4477-fabc-edb710de1257"
      },
      "execution_count": 12,
      "outputs": [
        {
          "output_type": "stream",
          "name": "stdout",
          "text": [
            "Mean apt price: 9.518739678165439\n",
            "Baseline MAE: 0.3010472703184413\n"
          ]
        }
      ]
    },
    {
      "cell_type": "code",
      "source": [
        "# Initialize and configure the XGBoost Regressor\n",
        "xgb_model = XGBRegressor(\n",
        "    n_estimators=200,\n",
        "    learning_rate=0.1,\n",
        "    max_depth=6,\n",
        "    random_state=42\n",
        ")\n",
        "\n",
        "# Train the model\n",
        "start = time.time()\n",
        "xgb_model.fit(X_train, y_train)\n",
        "end = time.time()\n",
        "print(f\"Training time: {end - start:.4f}s\")\n",
        "\n",
        "# Predict on the test set\n",
        "start = time.time()\n",
        "y_pred = xgb_model.predict(X_test)\n",
        "end = time.time()\n",
        "print(f\"Prediction time: {end - start:.4f}s\")\n",
        "\n",
        "# Evaluate the model\n",
        "r2 = r2_score(y_test, y_pred)\n",
        "mae = mean_absolute_error(y_test, y_pred)\n",
        "\n",
        "print(f\"R² Score: {r2:.4f}\")\n",
        "print(f\"Mean Absolute Error (MAE): {mae:.4f}\")"
      ],
      "metadata": {
        "colab": {
          "base_uri": "https://localhost:8080/"
        },
        "id": "UpVgimD3haS6",
        "outputId": "164caa41-edc2-4d5e-d812-c8e2c5e3a3f8"
      },
      "execution_count": 13,
      "outputs": [
        {
          "output_type": "stream",
          "name": "stdout",
          "text": [
            "Training time: 0.6013s\n",
            "Prediction time: 0.0318s\n",
            "R² Score: 0.8776\n",
            "Mean Absolute Error (MAE): 0.0988\n"
          ]
        }
      ]
    },
    {
      "cell_type": "code",
      "source": [
        "# Save model\n",
        "with open('xgboost_all_cities.pkl', 'wb') as f:\n",
        "    pickle.dump(xgb_model, f)"
      ],
      "metadata": {
        "id": "UQW2nphGit-h"
      },
      "execution_count": 14,
      "outputs": []
    }
  ]
}