{
  "nbformat": 4,
  "nbformat_minor": 0,
  "metadata": {
    "colab": {
      "provenance": []
    },
    "kernelspec": {
      "name": "python3",
      "display_name": "Python 3"
    },
    "language_info": {
      "name": "python"
    }
  },
  "cells": [
    {
      "cell_type": "code",
      "source": [
        "pip install dash"
      ],
      "metadata": {
        "id": "2ddw9lE9Co0R"
      },
      "execution_count": null,
      "outputs": []
    },
    {
      "cell_type": "code",
      "execution_count": 3,
      "metadata": {
        "id": "T1l3l6AfCKZf"
      },
      "outputs": [],
      "source": [
        "import dash\n",
        "from dash import dcc, html\n",
        "from dash.dependencies import Input, Output\n",
        "import pandas as pd\n",
        "import numpy as np\n",
        "import joblib\n",
        "import json"
      ]
    },
    {
      "cell_type": "code",
      "source": [
        "# Initialize the Dash app\n",
        "app = dash.Dash(__name__)\n",
        "\n",
        "# Define the layout\n",
        "app.layout = html.Div(\n",
        "    style={'display': 'flex', 'flexDirection': 'column', 'alignItems': 'center', 'padding': '20px'},  # This ensures all elements are stacked vertically\n",
        "    children=[\n",
        "        html.H1(\"Apartment Price Prediction\"),\n",
        "\n",
        "        # Square meters input\n",
        "        html.Label(\"Square Meters\"),\n",
        "        dcc.Input(id='square_meters', type='number', min=10, max=500, value=50),\n",
        "\n",
        "        # Floor input\n",
        "        html.Label(\"Floor\"),\n",
        "        dcc.Input(id='floor', type='number', min=1, max=10, value=3),\n",
        "\n",
        "        # Build year input\n",
        "        html.Label(\"Build Year\"),\n",
        "        dcc.Input(id='build_year', type='number', min=1900, max=2025, value=2000),\n",
        "\n",
        "        # Points of Interest input\n",
        "        html.Label(\"Number of Points of Interest\"),\n",
        "        dcc.Input(id='poi_count', type='number', min=0, max=100, value=5),\n",
        "\n",
        "        # Clinic distance input\n",
        "        html.Label(\"Clinic Distance\"),\n",
        "        dcc.Input(id='clinic_distance', type='number', min=0, max=1000, value=50),\n",
        "\n",
        "        # Kindergarten distance input\n",
        "        html.Label(\"Kindergarten Distance\"),\n",
        "        dcc.Input(id='kindergarten_distance', type='number', min=0, max=1000, value=50),\n",
        "\n",
        "        # College distance input\n",
        "        html.Label(\"College Distance\"),\n",
        "        dcc.Input(id='college_distance', type='number', min=0, max=1000, value=50),\n",
        "\n",
        "        # Pharmacy distance input\n",
        "        html.Label(\"Pharmacy Distance\"),\n",
        "        dcc.Input(id='pharmacy_distance', type='number', min=0, max=1000, value=50),\n",
        "\n",
        "        # Parking space input\n",
        "        html.Label(\"Has Parking Space?\"),\n",
        "        dcc.RadioItems(\n",
        "            id='has_parking_space',\n",
        "            options=[{'label': 'Yes', 'value': 'yes'}, {'label': 'No', 'value': 'no'}],\n",
        "            value='yes'\n",
        "        ),\n",
        "\n",
        "        # Elevator input\n",
        "        html.Label(\"Has Elevator?\"),\n",
        "        dcc.RadioItems(\n",
        "            id='has_elevator',\n",
        "            options=[{'label': 'Yes', 'value': 'yes'}, {'label': 'No', 'value': 'no'}],\n",
        "            value='yes'\n",
        "        ),\n",
        "\n",
        "        # Balcony input\n",
        "        html.Label(\"Has Balcony?\"),\n",
        "        dcc.RadioItems(\n",
        "            id='has_balcony',\n",
        "            options=[{'label': 'Yes', 'value': 'yes'}, {'label': 'No', 'value': 'no'}],\n",
        "            value='yes'\n",
        "        ),\n",
        "\n",
        "        # City selection input\n",
        "        html.Label(\"City\"),\n",
        "        dcc.Dropdown(\n",
        "            id='city',\n",
        "            options=[\n",
        "                {'label': 'Bialystok', 'value': 'bialystok'},\n",
        "                {'label': 'Bydgoszcz', 'value': 'bydgoszcz'},\n",
        "                {'label': 'Czestochowa', 'value': 'czestochowa'},\n",
        "                {'label': 'Gdansk', 'value': 'gdansk'},\n",
        "                {'label': 'Gdynia', 'value': 'gdynia'},\n",
        "                {'label': 'Katowice', 'value': 'katowice'},\n",
        "                {'label': 'Krakow', 'value': 'krakow'},\n",
        "                {'label': 'Lodz', 'value': 'lodz'},\n",
        "                {'label': 'Lublin', 'value': 'lublin'},\n",
        "                {'label': 'Poznan', 'value': 'poznan'},\n",
        "                {'label': 'Radom', 'value': 'radom'},\n",
        "                {'label': 'Rzeszow', 'value': 'rzeszow'},\n",
        "                {'label': 'Szczecin', 'value': 'szczecin'},\n",
        "                {'label': 'Warszawa', 'value': 'warszawa'},\n",
        "                {'label': 'Wroclaw', 'value': 'wroclaw'}\n",
        "            ],\n",
        "            value='warszawa',\n",
        "            style={'width': '200px'}\n",
        "        ),\n",
        "\n",
        "        # Property condition input\n",
        "        html.Label(\"Condition\"),\n",
        "        dcc.Dropdown(\n",
        "            id='condition',\n",
        "            options=[\n",
        "                {'label': 'Standard', 'value': 'standard'},\n",
        "                {'label': 'Premium', 'value': 'premium'},\n",
        "                {'label': 'Low', 'value': 'low'}\n",
        "            ],\n",
        "            value='standard',\n",
        "            style={'width': '200px'}\n",
        "        ),\n",
        "\n",
        "        # Button to trigger prediction\n",
        "        html.Button('Predict', id='predict-button', n_clicks=0),\n",
        "\n",
        "        # Output: Predicted Price per Square Meter\n",
        "        html.Div(id='prediction-output')\n",
        "    ]\n",
        ")\n"
      ],
      "metadata": {
        "id": "oY3W83sDCcc6"
      },
      "execution_count": 18,
      "outputs": []
    },
    {
      "cell_type": "code",
      "source": [
        "if __name__ == '__main__':\n",
        "    app.run_server(debug=True)"
      ],
      "metadata": {
        "colab": {
          "base_uri": "https://localhost:8080/",
          "height": 671
        },
        "id": "B_n2Z7vpC4Wb",
        "outputId": "85e3e741-cd4f-414c-f934-849dd2fc2ad2"
      },
      "execution_count": 19,
      "outputs": [
        {
          "output_type": "display_data",
          "data": {
            "text/plain": [
              "<IPython.core.display.Javascript object>"
            ],
            "application/javascript": [
              "(async (port, path, width, height, cache, element) => {\n",
              "    if (!google.colab.kernel.accessAllowed && !cache) {\n",
              "      return;\n",
              "    }\n",
              "    element.appendChild(document.createTextNode(''));\n",
              "    const url = await google.colab.kernel.proxyPort(port, {cache});\n",
              "    const iframe = document.createElement('iframe');\n",
              "    iframe.src = new URL(path, url).toString();\n",
              "    iframe.height = height;\n",
              "    iframe.width = width;\n",
              "    iframe.style.border = 0;\n",
              "    iframe.allow = [\n",
              "        'accelerometer',\n",
              "        'autoplay',\n",
              "        'camera',\n",
              "        'clipboard-read',\n",
              "        'clipboard-write',\n",
              "        'gyroscope',\n",
              "        'magnetometer',\n",
              "        'microphone',\n",
              "        'serial',\n",
              "        'usb',\n",
              "        'xr-spatial-tracking',\n",
              "    ].join('; ');\n",
              "    element.appendChild(iframe);\n",
              "  })(8050, \"/\", \"100%\", 650, false, window.element)"
            ]
          },
          "metadata": {}
        }
      ]
    }
  ]
}