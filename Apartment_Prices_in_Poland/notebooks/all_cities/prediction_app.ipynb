{
  "nbformat": 4,
  "nbformat_minor": 0,
  "metadata": {
    "colab": {
      "provenance": []
    },
    "kernelspec": {
      "name": "python3",
      "display_name": "Python 3"
    },
    "language_info": {
      "name": "python"
    }
  },
  "cells": [
    {
      "cell_type": "code",
      "source": [
        "pip install dash"
      ],
      "metadata": {
        "id": "2ddw9lE9Co0R"
      },
      "execution_count": null,
      "outputs": []
    },
    {
      "cell_type": "code",
      "execution_count": 2,
      "metadata": {
        "id": "T1l3l6AfCKZf"
      },
      "outputs": [],
      "source": [
        "import dash\n",
        "from dash import dcc, html, Input, Output, State\n",
        "import pandas as pd\n",
        "import numpy as np\n",
        "import joblib\n",
        "import json"
      ]
    },
    {
      "cell_type": "code",
      "source": [
        "# Load required files\n",
        "ohe_dict = pd.read_pickle('encoders.pkl')\n",
        "bins = json.load(open('bins.json'))\n",
        "model = pd.read_pickle('xgboost_all_cities.pkl')"
      ],
      "metadata": {
        "id": "Uo4nHeI5sPFE"
      },
      "execution_count": 3,
      "outputs": []
    },
    {
      "cell_type": "code",
      "source": [
        "\n",
        "# Initialize the Dash app\n",
        "app = dash.Dash(__name__, external_stylesheets=['https://codepen.io/chriddyp/pen/bWLwgP.css'])\n",
        "\n",
        "# Define the layout\n",
        "app.layout = html.Div(\n",
        "    style={'display': 'grid', 'gridTemplateColumns': '1fr 1fr', 'gap': '20px', 'padding': '20px'},\n",
        "    children=[\n",
        "        html.H1(\"Apartment Price Prediction\", style={'gridColumn': 'span 2', 'textAlign': 'center'}),\n",
        "\n",
        "        html.Label(\"Type of building\"),\n",
        "        dcc.Dropdown(\n",
        "            id='type',\n",
        "            options=[\n",
        "              {'label': 'Block of Flats', 'value': 'blockOfFlats'},\n",
        "              {'label': 'Apartment Building', 'value': 'apartmentBuilding'},\n",
        "              {'label': 'Tenement', 'value': 'tenement'}\n",
        "            ],\n",
        "            value='blockOfFlats'\n",
        "        ),\n",
        "\n",
        "        html.Label(\"City\"),\n",
        "        dcc.Dropdown(\n",
        "            id='city',\n",
        "            options=[\n",
        "                {'label': city.capitalize(), 'value': city} for city in [\n",
        "                    'bialystok', 'bydgoszcz', 'czestochowa', 'gdansk', 'gdynia', 'katowice',\n",
        "                    'krakow', 'lodz', 'lublin', 'poznan', 'radom', 'rzeszow', 'szczecin',\n",
        "                    'warszawa', 'wroclaw'\n",
        "                ]\n",
        "            ],\n",
        "            value='warszawa'\n",
        "        ),\n",
        "\n",
        "        html.Label(\"Size of Apartment in Square Meters\"),\n",
        "        dcc.Input(id='squareMeters', type='number', min=10, max=200, value=50),\n",
        "\n",
        "        html.Label(\"Floor\"),\n",
        "        dcc.Input(id='floor', type='number', min=1, max=20, value=5),\n",
        "\n",
        "        html.Label(\"Building Build Year\"),\n",
        "        dcc.Input(id='buildYear', type='number', min=1850, max=2025, value=1980),\n",
        "\n",
        "        html.Label(\"Distance to City Center (km)\"),\n",
        "        dcc.Input(id='centreDistance', type='number', min=0, max=20, step=0.01, value=5),\n",
        "\n",
        "        html.Label(\"Number of Points of Interest in 500m range from the apartment\"),\n",
        "        dcc.Input(id='poiCount', type='number', min=0, max=200, value=50),\n",
        "\n",
        "        html.Label(\"Clinic Distance (km)\"),\n",
        "        dcc.Input(id='clinicDistance', type='number', min=0, max=10, step=0.001, value=0.500),\n",
        "\n",
        "        html.Label(\"Kindergarten Distance (km)\"),\n",
        "        dcc.Input(id='kindergartenDistance', type='number', min=0, max=10, step=0.001, value=0.500),\n",
        "\n",
        "        html.Label(\"College Distance (km)\"),\n",
        "        dcc.Input(id='collegeDistance', type='number', min=0, max=10, step=0.001, value=0.500),\n",
        "\n",
        "        html.Label(\"Pharmacy Distance (km)\"),\n",
        "        dcc.Input(id='pharmacyDistance', type='number', min=0, max=10, step=0.001, value=0.500),\n",
        "\n",
        "        html.Label(\"Property Condition\"),\n",
        "        dcc.Dropdown(\n",
        "            id='condition',\n",
        "            options=[\n",
        "                {'label': 'Standard', 'value': 'standard'},\n",
        "                {'label': 'Premium', 'value': 'premium'},\n",
        "                {'label': 'Low', 'value': 'low'}\n",
        "            ],\n",
        "            value='standard'\n",
        "        ),\n",
        "\n",
        "        html.Label(\"Has Parking Space?\"),\n",
        "        dcc.RadioItems(id='hasParkingSpace', options=[{'label': 'Yes', 'value': 'yes'}, {'label': 'No', 'value': 'no'}], value='yes'),\n",
        "\n",
        "        html.Label(\"Has Balcony?\"),\n",
        "        dcc.RadioItems(id='hasBalcony', options=[{'label': 'Yes', 'value': 'yes'}, {'label': 'No', 'value': 'no'}], value='yes'),\n",
        "\n",
        "        html.Label(\"Has Elevator?\"),\n",
        "        dcc.RadioItems(id='hasElevator', options=[{'label': 'Yes', 'value': 'yes'}, {'label': 'No', 'value': 'no'}], value='yes'),\n",
        "\n",
        "        html.Button('Predict', id='predict-button', n_clicks=0, style={'gridColumn': 'span 2', 'marginTop': '20px'}),\n",
        "\n",
        "        html.Div(id='prediction-output', style={'gridColumn': 'span 2', 'textAlign': 'center', 'fontSize': '20px', 'fontWeight': 'bold'})\n",
        "    ]\n",
        ")\n",
        "\n"
      ],
      "metadata": {
        "id": "wqZw53X3ot1F"
      },
      "execution_count": 4,
      "outputs": []
    },
    {
      "cell_type": "code",
      "source": [
        "# Prediction function\n",
        "def predict_price(input_data):\n",
        "    df = pd.DataFrame([input_data])\n",
        "\n",
        "    # Bin distance columns\n",
        "    columns = ['clinicDistance', 'kindergartenDistance', 'collegeDistance', 'pharmacyDistance']\n",
        "    for col in columns:\n",
        "        df[f'{col}_binned'] = pd.cut(df[col], bins=bins['distance_bins'], labels=False, include_lowest=True)\n",
        "    df = df.drop(columns=columns)\n",
        "\n",
        "    df['centreDistance_binned'] = pd.cut(df['centreDistance'], bins=bins['centre_distance_bins'], labels=False, include_lowest=True)\n",
        "    df = df.drop(columns='centreDistance')\n",
        "\n",
        "    # Encode city\n",
        "    city_encoder = ohe_dict['city_encoder']\n",
        "    city_encoded = city_encoder.transform(df[['city']])\n",
        "    encoded_city_df = pd.DataFrame(city_encoded, columns=city_encoder.get_feature_names_out(['city']))\n",
        "    df = pd.concat([df.drop(columns='city'), encoded_city_df], axis=1)\n",
        "\n",
        "    # Encode categorical columns\n",
        "    cat_encoder = ohe_dict['cat_column_encoder']\n",
        "    cat_columns = df.select_dtypes('object').columns\n",
        "    transformed = cat_encoder.transform(df[cat_columns])\n",
        "    encoded_df = pd.DataFrame(transformed, columns=cat_encoder.get_feature_names_out(cat_columns))\n",
        "    df = pd.concat([df.drop(columns=cat_columns), encoded_df], axis=1)\n",
        "\n",
        "    # Predict price\n",
        "    price = model.predict(df)\n",
        "    price_per_m2 = np.exp(price)\n",
        "\n",
        "    return f\"Predicted Price per m²: {price_per_m2[0]:.2f} PLN\""
      ],
      "metadata": {
        "id": "37rvCTFEsbv-"
      },
      "execution_count": 5,
      "outputs": []
    },
    {
      "cell_type": "code",
      "source": [
        "# Dash callback to make predictions\n",
        "@app.callback(\n",
        "    Output('prediction-output', 'children'),\n",
        "    Input('predict-button', 'n_clicks'),\n",
        "    State('type', 'value'),\n",
        "    State('city', 'value'),\n",
        "    State('squareMeters', 'value'),\n",
        "    State('floor', 'value'),\n",
        "    State('buildYear', 'value'),\n",
        "    State('centreDistance', 'value'),\n",
        "    State('poiCount', 'value'),\n",
        "    State('clinicDistance', 'value'),\n",
        "    State('kindergartenDistance', 'value'),\n",
        "    State('collegeDistance', 'value'),\n",
        "    State('pharmacyDistance', 'value'),\n",
        "    State('condition', 'value'),\n",
        "    State('hasParkingSpace', 'value'),\n",
        "    State('hasBalcony', 'value'),\n",
        "    State('hasElevator', 'value'),\n",
        ")\n",
        "def update_prediction(n_clicks, type, city, squareMeters, floor, buildYear, centreDistance, poiCount,\n",
        "                      clinicDistance, kindergartenDistance, collegeDistance, pharmacyDistance,\n",
        "                      condition, hasParkingSpace, hasBalcony, hasElevator):\n",
        "    if n_clicks == 0:\n",
        "        return \"\"\n",
        "\n",
        "    input_data = {\n",
        "        \"type\": type,\n",
        "        \"city\": city,\n",
        "        \"squareMeters\": squareMeters,\n",
        "        \"floor\": floor,\n",
        "        \"buildYear\": buildYear,\n",
        "        \"centreDistance\": centreDistance,\n",
        "        \"poiCount\": poiCount,\n",
        "        \"clinicDistance\": clinicDistance,\n",
        "        \"kindergartenDistance\": kindergartenDistance,\n",
        "        \"collegeDistance\": collegeDistance,\n",
        "        \"pharmacyDistance\": pharmacyDistance,\n",
        "        \"condition\": condition,\n",
        "        \"hasParkingSpace\": hasParkingSpace,\n",
        "        \"hasBalcony\": hasBalcony,\n",
        "        \"hasElevator\": hasElevator\n",
        "    }\n",
        "\n",
        "    return predict_price(input_data)"
      ],
      "metadata": {
        "id": "6wi7Gkkmsng1"
      },
      "execution_count": 6,
      "outputs": []
    },
    {
      "cell_type": "code",
      "source": [
        "if __name__ == '__main__':\n",
        "    app.run_server(debug=True)"
      ],
      "metadata": {
        "colab": {
          "base_uri": "https://localhost:8080/",
          "height": 671
        },
        "id": "B_n2Z7vpC4Wb",
        "outputId": "73793bc1-b066-49b6-d173-e32cc6fd44ff"
      },
      "execution_count": 7,
      "outputs": [
        {
          "output_type": "display_data",
          "data": {
            "text/plain": [
              "<IPython.core.display.Javascript object>"
            ],
            "application/javascript": [
              "(async (port, path, width, height, cache, element) => {\n",
              "    if (!google.colab.kernel.accessAllowed && !cache) {\n",
              "      return;\n",
              "    }\n",
              "    element.appendChild(document.createTextNode(''));\n",
              "    const url = await google.colab.kernel.proxyPort(port, {cache});\n",
              "    const iframe = document.createElement('iframe');\n",
              "    iframe.src = new URL(path, url).toString();\n",
              "    iframe.height = height;\n",
              "    iframe.width = width;\n",
              "    iframe.style.border = 0;\n",
              "    iframe.allow = [\n",
              "        'accelerometer',\n",
              "        'autoplay',\n",
              "        'camera',\n",
              "        'clipboard-read',\n",
              "        'clipboard-write',\n",
              "        'gyroscope',\n",
              "        'magnetometer',\n",
              "        'microphone',\n",
              "        'serial',\n",
              "        'usb',\n",
              "        'xr-spatial-tracking',\n",
              "    ].join('; ');\n",
              "    element.appendChild(iframe);\n",
              "  })(8050, \"/\", \"100%\", 650, false, window.element)"
            ]
          },
          "metadata": {}
        }
      ]
    }
  ]
}